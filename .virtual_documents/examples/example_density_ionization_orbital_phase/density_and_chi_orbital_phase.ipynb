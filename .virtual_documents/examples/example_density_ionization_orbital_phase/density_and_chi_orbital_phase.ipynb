


from xraybinaryorbit import *


path, density, logchi = density_and_ionization_orbital_phase_theoretical(load_directly=False)


path, density, logchi = density_and_ionization_orbital_phase_theoretical(load_directly=True)


params=[0.3,1e+36,3.0,0.1,200.0,90.0,10.0,22.0,1.0,1200.0,1e-06,0.8]

path, density, logchi = density_and_ionization_orbital_phase_theoretical(parameter_list=params)
