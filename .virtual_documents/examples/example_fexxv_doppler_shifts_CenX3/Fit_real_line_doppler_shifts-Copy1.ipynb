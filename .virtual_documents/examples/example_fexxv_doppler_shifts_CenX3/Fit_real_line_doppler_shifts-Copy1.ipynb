


import xraybinaryorbit
from xraybinaryorbit import *


# REAL DATA

# Known orbital phases for each time bin
phase_array = np.array([0.21901885, 0.24120082, 0.2522918 , 0.26338279, 0.27447377,
       0.28556475, 0.29665574, 0.30774672, 0.31883771, 0.32715595,
       0.33270144, 0.33824693, 0.35488341, 0.3604289 , 0.36597439,
       0.37706538, 0.38815636, 0.40479284, 0.41033833])

# Time bins: The beguining and end are provided. 
x = np.array([[7.97000557e+08, 7.97002557e+08],
       [7.97004557e+08, 7.97006557e+08],
       [7.97006557e+08, 7.97008557e+08],
       [7.97008557e+08, 7.97010557e+08],
       [7.97010557e+08, 7.97012557e+08],
       [7.97012557e+08, 7.97014557e+08],
       [7.97014557e+08, 7.97016557e+08],
       [7.97016557e+08, 7.97018557e+08],
       [7.97018557e+08, 7.97020557e+08],
       [7.97020557e+08, 7.97021557e+08],
       [7.97021557e+08, 7.97022557e+08],
       [7.97022557e+08, 7.97023557e+08],
       [7.97025557e+08, 7.97026557e+08],
       [7.97026557e+08, 7.97027557e+08],
       [7.97027557e+08, 7.97028557e+08],
       [7.97029557e+08, 7.97030557e+08],
       [7.97031557e+08, 7.97032557e+08],
       [7.97034557e+08, 7.97035557e+08],
       [7.97035557e+08, 7.97036557e+08]])

# Emission line evolution
y = np.array([6.68379, 6.80991, 6.67892, 6.70604, 6.59522, 6.69305, 6.78357,
       6.7602 , 6.71054, 6.59051, 6.58941, 6.6197 , 6.6798 , 6.73628,
       6.72427, 6.70338, 6.81985, 6.60144, 6.60003])



# Emission line evolution positive and negative errors
y_err = np.array([[0.01962, 0.01599, 0.0353 , 0.02163, 0.01522, 0.02066, 0.01784,
        0.0408 , 0.09066, 0.01051, 0.00941, 0.0344 , 0.0998 , 0.02562,
        0.02753, 0.03273, 0.08475, 0.02144, 0.02003],
       [0.09961, 0.01009, 0.04271, 0.02659, 0.12467, 0.01667, 0.03643,
        0.03073, 0.03159, 0.02861, 0.01781, 0.04638, 0.09535, 0.0397 ,
        0.03344, 0.10163, 0.00015, 0.06801, 0.04635]])







plt.errorbar(phase_array,y, yerr =y_err,fmt="k", alpha=0.5)
plt.errorbar(phase_array,y,fmt="k")
plt.xlabel("Orbital phase")
plt.ylabel("Fe xxi energy evolution")





lower_bound = [0.18,1.5,2.087,0.0,  0.0,   67.0,11.8,18.7, 1.33, 0.0,0.5,0.14,0.0, 0.0,  67.0,1e-60,6.63,0.0]
upper_bound = [0.25,1.7,2.09, 1e-05,1e-70,76.7, 12.2,22.77,1.45,0.99,1.0,0.16,0.46,360.0,76.7,1e-22,6.7,1e-70]

bound_disc= lower_bound, upper_bound

result, phase, dphase, predicted_data, r_squared = fit_disc_ps(x, y, y_err=y_err, 
                                                               num_iterations=2, maxiter = 100, swarmsize = 10, 
                                                               units="keV",method_="extended",
                                                               extended_binsize=0.01,bound_list = bound_disc)

plt.plot(phase_array,  predicted_data,"o:")
plt.errorbar(phase_array, y, yerr=y_err)
plt.xlabel("Orbital phase")
plt.ylabel("Fe xvv Doppler shifts")

result


result, phase, dphase, predicted_data, r_squared = fit_disc_ls(x, y, y_err=y_err,  
                                                               units="keV",method_="discrete",
                                                               extended_binsize=0.01, 
                                                               bound_list = bound_disc)


plt.plot(phase_array,  predicted_data,"o:")
plt.errorbar(phase_array, y, yerr=y_err)
plt.xlabel("Orbital phase")
plt.ylabel("Fe xvv Doppler shifts")

result





result, phase,  predicted_data, r_squared = fit_orbit_ps(x, y, y_err=y_err, 
                                                         num_iterations=2, maxiter = 100, swarmsize = 10, 
                                                         units="keV",method_="extended",
                                                         extended_binsize=0.01, load_directly=False)

plt.plot(phase_array,  predicted_data,"o:")
plt.errorbar(phase_array, y, yerr=y_err)
plt.xlabel("Orbital phase")
plt.ylabel("Fe xvv Doppler shifts")

result


result, phase, predicted_data, r_squared = fit_orbit_ls(x, y, y_err=y_err, 
                                                        units="keV",method_="discrete",
                                                        extended_binsize=0.01, load_directly=False)

plt.plot(phase_array,  predicted_data,"o:")
plt.errorbar(phase_array, y, yerr=y_err)
plt.xlabel("Orbital phase")
plt.ylabel("Fe xvv Doppler shifts")

result






result, phase, predicted_data, r_squared = fit_spiral_ps(x, y, y_err=y_err, 
                                                         num_iterations=2, maxiter = 100, swarmsize = 10, 
                                                         units="keV",method_="extended",
                                                         extended_binsize=0.01, load_directly=False)

plt.plot(phase_array,  predicted_data,"o:")
plt.errorbar(phase_array, y, yerr=y_err)
plt.xlabel("Orbital phase")
plt.ylabel("Fe xvv Doppler shifts")

result


result, phase, predicted_data, r_squared = fit_spiral_ls(x, y, y_err=y_err, 
                                                         units="keV",method_="discrete",
                                                         extended_binsize=0.01, load_directly=True)

plt.plot(phase_array,  predicted_data,"o:")
plt.errorbar(phase_array, y, yerr=y_err)
plt.xlabel("Orbital phase")
plt.ylabel("Fe xvv Doppler shifts")

result





result, phase,predicted_data, r_squared = fit_spiral_in_orbit_ps(x, y, y_err=y_err, 
                                                                          num_iterations=2, maxiter = 100, swarmsize = 30,  
                                                                          units="keV",method_="extended",
                                                                          extended_binsize=0.01, load_directly=False)

plt.plot(phase_array,  predicted_data,"o:")
plt.errorbar(phase_array, y, yerr=y_err)
plt.xlabel("Orbital phase")
plt.ylabel("Fe xvv Doppler shifts")

result


result, phase, predicted_data, r_squared = fit_spiral_in_orbit_ls(x, y, y_err=y_err, 
                                                                          units="keV",method_="discrete",
                                                                          extended_binsize=0.01, load_directly=True)


plt.plot(phase_array,  predicted_data,"o:")
plt.errorbar(phase_array, y, yerr=y_err)
plt.xlabel("Orbital phase")
plt.ylabel("Fe xvv Doppler shifts")

result



